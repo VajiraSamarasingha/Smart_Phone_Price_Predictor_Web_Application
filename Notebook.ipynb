{
 "cells": [
  {
   "cell_type": "code",
   "execution_count": 1,
   "metadata": {},
   "outputs": [],
   "source": [
    "\n",
    "import numpy as np\n"
   ]
  },
  {
   "cell_type": "code",
   "execution_count": 2,
   "metadata": {},
   "outputs": [],
   "source": [
    "\n",
    "import pandas as pd"
   ]
  },
  {
   "cell_type": "code",
   "execution_count": 3,
   "metadata": {},
   "outputs": [],
   "source": [
    "data = pd.read_csv('mobile_prices_2023.csv')"
   ]
  },
  {
   "cell_type": "code",
   "execution_count": 4,
   "metadata": {},
   "outputs": [
    {
     "data": {
      "text/plain": [
       "Phone Name             0\n",
       "Rating ?/5             0\n",
       "Number of Ratings      0\n",
       "RAM                    0\n",
       "ROM/Storage          174\n",
       "Back/Rare Camera       9\n",
       "Front Camera         401\n",
       "Battery               10\n",
       "Processor             55\n",
       "Price in INR           0\n",
       "Date of Scraping       0\n",
       "dtype: int64"
      ]
     },
     "execution_count": 4,
     "metadata": {},
     "output_type": "execute_result"
    }
   ],
   "source": [
    "data.isnull().sum()"
   ]
  },
  {
   "cell_type": "code",
   "execution_count": 5,
   "metadata": {},
   "outputs": [
    {
     "name": "stderr",
     "output_type": "stream",
     "text": [
      "<>:1: SyntaxWarning: invalid escape sequence '\\d'\n",
      "<>:1: SyntaxWarning: invalid escape sequence '\\d'\n",
      "C:\\Users\\vajir\\AppData\\Local\\Temp\\ipykernel_1252\\1390462843.py:1: SyntaxWarning: invalid escape sequence '\\d'\n",
      "  data['ROM/Storage'] = data['ROM/Storage'].str.extract('(\\d+)').astype(float)\n"
     ]
    }
   ],
   "source": [
    "data['ROM/Storage'] = data['ROM/Storage'].str.extract('(\\d+)').astype(float)"
   ]
  },
  {
   "cell_type": "code",
   "execution_count": 6,
   "metadata": {},
   "outputs": [],
   "source": [
    "mean_value = data['ROM/Storage'].mean()\n"
   ]
  },
  {
   "cell_type": "code",
   "execution_count": 7,
   "metadata": {},
   "outputs": [],
   "source": [
    "data['ROM/Storage'].fillna(mean_value, inplace=True)"
   ]
  },
  {
   "cell_type": "code",
   "execution_count": 8,
   "metadata": {},
   "outputs": [
    {
     "data": {
      "text/plain": [
       "Phone Name             0\n",
       "Rating ?/5             0\n",
       "Number of Ratings      0\n",
       "RAM                    0\n",
       "ROM/Storage            0\n",
       "Back/Rare Camera       9\n",
       "Front Camera         401\n",
       "Battery               10\n",
       "Processor             55\n",
       "Price in INR           0\n",
       "Date of Scraping       0\n",
       "dtype: int64"
      ]
     },
     "execution_count": 8,
     "metadata": {},
     "output_type": "execute_result"
    }
   ],
   "source": [
    "data.isnull().sum()"
   ]
  },
  {
   "cell_type": "code",
   "execution_count": 9,
   "metadata": {},
   "outputs": [
    {
     "name": "stderr",
     "output_type": "stream",
     "text": [
      "<>:1: SyntaxWarning: invalid escape sequence '\\d'\n",
      "<>:1: SyntaxWarning: invalid escape sequence '\\d'\n",
      "C:\\Users\\vajir\\AppData\\Local\\Temp\\ipykernel_1252\\3416047215.py:1: SyntaxWarning: invalid escape sequence '\\d'\n",
      "  data['RAM'] = data['RAM'].str.extract('(\\d+)').astype(float)\n"
     ]
    }
   ],
   "source": [
    "data['RAM'] = data['RAM'].str.extract('(\\d+)').astype(float)"
   ]
  },
  {
   "cell_type": "code",
   "execution_count": 10,
   "metadata": {},
   "outputs": [],
   "source": [
    "data['RAM'].fillna(0, inplace=True)\n",
    "data['RAM'].replace([np.inf, -np.inf], 0, inplace=True)\n",
    "data['RAM'] = data['RAM'].astype('int')"
   ]
  },
  {
   "cell_type": "code",
   "execution_count": 11,
   "metadata": {},
   "outputs": [
    {
     "data": {
      "text/plain": [
       "0       2\n",
       "1       4\n",
       "2       4\n",
       "3       4\n",
       "4       4\n",
       "       ..\n",
       "1831    4\n",
       "1832    4\n",
       "1833    4\n",
       "1834    8\n",
       "1835    4\n",
       "Name: RAM, Length: 1836, dtype: int32"
      ]
     },
     "execution_count": 11,
     "metadata": {},
     "output_type": "execute_result"
    }
   ],
   "source": [
    "data['RAM']"
   ]
  },
  {
   "cell_type": "code",
   "execution_count": 12,
   "metadata": {},
   "outputs": [
    {
     "data": {
      "text/plain": [
       "0        32.0\n",
       "1        64.0\n",
       "2        64.0\n",
       "3        64.0\n",
       "4        64.0\n",
       "        ...  \n",
       "1831     64.0\n",
       "1832     64.0\n",
       "1833     64.0\n",
       "1834    128.0\n",
       "1835     64.0\n",
       "Name: ROM/Storage, Length: 1836, dtype: float64"
      ]
     },
     "execution_count": 12,
     "metadata": {},
     "output_type": "execute_result"
    }
   ],
   "source": [
    "data['ROM/Storage']"
   ]
  },
  {
   "cell_type": "code",
   "execution_count": 13,
   "metadata": {},
   "outputs": [],
   "source": [
    "data['ROM/Storage'] = data['ROM/Storage'].astype('int')"
   ]
  },
  {
   "cell_type": "code",
   "execution_count": 14,
   "metadata": {},
   "outputs": [
    {
     "data": {
      "text/plain": [
       "0        32\n",
       "1        64\n",
       "2        64\n",
       "3        64\n",
       "4        64\n",
       "       ... \n",
       "1831     64\n",
       "1832     64\n",
       "1833     64\n",
       "1834    128\n",
       "1835     64\n",
       "Name: ROM/Storage, Length: 1836, dtype: int32"
      ]
     },
     "execution_count": 14,
     "metadata": {},
     "output_type": "execute_result"
    }
   ],
   "source": [
    "data['ROM/Storage']"
   ]
  },
  {
   "cell_type": "code",
   "execution_count": 15,
   "metadata": {},
   "outputs": [
    {
     "name": "stderr",
     "output_type": "stream",
     "text": [
      "<>:1: SyntaxWarning: invalid escape sequence '\\d'\n",
      "<>:1: SyntaxWarning: invalid escape sequence '\\d'\n",
      "C:\\Users\\vajir\\AppData\\Local\\Temp\\ipykernel_1252\\202900976.py:1: SyntaxWarning: invalid escape sequence '\\d'\n",
      "  data['Front Camera'] = data['Front Camera'].str.extract('(\\d+)').astype(float)\n"
     ]
    }
   ],
   "source": [
    "data['Front Camera'] = data['Front Camera'].str.extract('(\\d+)').astype(float)"
   ]
  },
  {
   "cell_type": "code",
   "execution_count": 16,
   "metadata": {},
   "outputs": [],
   "source": [
    "mean_value = data['Front Camera'].mean()"
   ]
  },
  {
   "cell_type": "code",
   "execution_count": 17,
   "metadata": {},
   "outputs": [],
   "source": [
    "data['Front Camera'].fillna(mean_value, inplace=True)"
   ]
  },
  {
   "cell_type": "code",
   "execution_count": 18,
   "metadata": {},
   "outputs": [],
   "source": [
    "data['Front Camera'] = data['Front Camera'].astype('int')"
   ]
  },
  {
   "cell_type": "code",
   "execution_count": 19,
   "metadata": {},
   "outputs": [
    {
     "data": {
      "text/plain": [
       "Phone Name            0\n",
       "Rating ?/5            0\n",
       "Number of Ratings     0\n",
       "RAM                   0\n",
       "ROM/Storage           0\n",
       "Back/Rare Camera      9\n",
       "Front Camera          0\n",
       "Battery              10\n",
       "Processor            55\n",
       "Price in INR          0\n",
       "Date of Scraping      0\n",
       "dtype: int64"
      ]
     },
     "execution_count": 19,
     "metadata": {},
     "output_type": "execute_result"
    }
   ],
   "source": [
    "data.isnull().sum()"
   ]
  },
  {
   "cell_type": "code",
   "execution_count": 20,
   "metadata": {},
   "outputs": [
    {
     "data": {
      "text/plain": [
       "0    5000 mAh\n",
       "1    5000 mAh\n",
       "2    5000 mAh\n",
       "3    5000 mAh\n",
       "4    5000 mAh\n",
       "Name: Battery, dtype: object"
      ]
     },
     "execution_count": 20,
     "metadata": {},
     "output_type": "execute_result"
    }
   ],
   "source": [
    "data['Battery'].head()"
   ]
  },
  {
   "cell_type": "code",
   "execution_count": 21,
   "metadata": {},
   "outputs": [
    {
     "name": "stderr",
     "output_type": "stream",
     "text": [
      "<>:1: SyntaxWarning: invalid escape sequence '\\d'\n",
      "<>:1: SyntaxWarning: invalid escape sequence '\\d'\n",
      "C:\\Users\\vajir\\AppData\\Local\\Temp\\ipykernel_1252\\27849171.py:1: SyntaxWarning: invalid escape sequence '\\d'\n",
      "  data['Battery'] = data['Battery'].str.extract('(\\d+)').astype(float)\n"
     ]
    }
   ],
   "source": [
    "data['Battery'] = data['Battery'].str.extract('(\\d+)').astype(float)\n",
    "mean_value = data['Battery'].mean()\n",
    "data['Battery'].fillna(mean_value, inplace=True)"
   ]
  },
  {
   "cell_type": "code",
   "execution_count": 22,
   "metadata": {},
   "outputs": [
    {
     "data": {
      "text/plain": [
       "0    5000.0\n",
       "1    5000.0\n",
       "2    5000.0\n",
       "3    5000.0\n",
       "4    5000.0\n",
       "Name: Battery, dtype: float64"
      ]
     },
     "execution_count": 22,
     "metadata": {},
     "output_type": "execute_result"
    }
   ],
   "source": [
    "data['Battery'].head()"
   ]
  },
  {
   "cell_type": "code",
   "execution_count": 23,
   "metadata": {},
   "outputs": [],
   "source": [
    "data['Battery'] = data['Battery'].astype('int')"
   ]
  },
  {
   "cell_type": "code",
   "execution_count": 24,
   "metadata": {},
   "outputs": [
    {
     "data": {
      "text/plain": [
       "Phone Name            0\n",
       "Rating ?/5            0\n",
       "Number of Ratings     0\n",
       "RAM                   0\n",
       "ROM/Storage           0\n",
       "Back/Rare Camera      9\n",
       "Front Camera          0\n",
       "Battery               0\n",
       "Processor            55\n",
       "Price in INR          0\n",
       "Date of Scraping      0\n",
       "dtype: int64"
      ]
     },
     "execution_count": 24,
     "metadata": {},
     "output_type": "execute_result"
    }
   ],
   "source": [
    "data.isnull().sum()"
   ]
  },
  {
   "cell_type": "code",
   "execution_count": 25,
   "metadata": {},
   "outputs": [
    {
     "name": "stdout",
     "output_type": "stream",
     "text": [
      "<class 'pandas.core.frame.DataFrame'>\n",
      "RangeIndex: 1836 entries, 0 to 1835\n",
      "Data columns (total 11 columns):\n",
      " #   Column             Non-Null Count  Dtype  \n",
      "---  ------             --------------  -----  \n",
      " 0   Phone Name         1836 non-null   object \n",
      " 1   Rating ?/5         1836 non-null   float64\n",
      " 2   Number of Ratings  1836 non-null   object \n",
      " 3   RAM                1836 non-null   int32  \n",
      " 4   ROM/Storage        1836 non-null   int32  \n",
      " 5   Back/Rare Camera   1827 non-null   object \n",
      " 6   Front Camera       1836 non-null   int32  \n",
      " 7   Battery            1836 non-null   int32  \n",
      " 8   Processor          1781 non-null   object \n",
      " 9   Price in INR       1836 non-null   object \n",
      " 10  Date of Scraping   1836 non-null   object \n",
      "dtypes: float64(1), int32(4), object(6)\n",
      "memory usage: 129.2+ KB\n"
     ]
    }
   ],
   "source": [
    "data.info()"
   ]
  },
  {
   "cell_type": "code",
   "execution_count": 26,
   "metadata": {},
   "outputs": [
    {
     "name": "stderr",
     "output_type": "stream",
     "text": [
      "<>:1: SyntaxWarning: invalid escape sequence '\\d'\n",
      "<>:1: SyntaxWarning: invalid escape sequence '\\d'\n",
      "C:\\Users\\vajir\\AppData\\Local\\Temp\\ipykernel_1252\\3327390253.py:1: SyntaxWarning: invalid escape sequence '\\d'\n",
      "  data['Number of Ratings'] = data['Number of Ratings'].str.extract('(\\d+)').astype(float)\n"
     ]
    }
   ],
   "source": [
    "data['Number of Ratings'] = data['Number of Ratings'].str.extract('(\\d+)').astype(float)\n",
    "mean_value = data['Number of Ratings'].mean()\n",
    "data['Number of Ratings'].fillna(mean_value, inplace=True)"
   ]
  },
  {
   "cell_type": "code",
   "execution_count": 27,
   "metadata": {},
   "outputs": [],
   "source": [
    "data['Number of Ratings'] = data['Number of Ratings'].astype('int')"
   ]
  },
  {
   "cell_type": "code",
   "execution_count": 28,
   "metadata": {},
   "outputs": [
    {
     "name": "stdout",
     "output_type": "stream",
     "text": [
      "<class 'pandas.core.frame.DataFrame'>\n",
      "RangeIndex: 1836 entries, 0 to 1835\n",
      "Data columns (total 11 columns):\n",
      " #   Column             Non-Null Count  Dtype  \n",
      "---  ------             --------------  -----  \n",
      " 0   Phone Name         1836 non-null   object \n",
      " 1   Rating ?/5         1836 non-null   float64\n",
      " 2   Number of Ratings  1836 non-null   int32  \n",
      " 3   RAM                1836 non-null   int32  \n",
      " 4   ROM/Storage        1836 non-null   int32  \n",
      " 5   Back/Rare Camera   1827 non-null   object \n",
      " 6   Front Camera       1836 non-null   int32  \n",
      " 7   Battery            1836 non-null   int32  \n",
      " 8   Processor          1781 non-null   object \n",
      " 9   Price in INR       1836 non-null   object \n",
      " 10  Date of Scraping   1836 non-null   object \n",
      "dtypes: float64(1), int32(5), object(5)\n",
      "memory usage: 122.1+ KB\n"
     ]
    }
   ],
   "source": [
    "data.info()"
   ]
  },
  {
   "cell_type": "code",
   "execution_count": 29,
   "metadata": {},
   "outputs": [
    {
     "name": "stderr",
     "output_type": "stream",
     "text": [
      "<>:1: SyntaxWarning: invalid escape sequence '\\d'\n",
      "<>:1: SyntaxWarning: invalid escape sequence '\\d'\n",
      "C:\\Users\\vajir\\AppData\\Local\\Temp\\ipykernel_1252\\3761392870.py:1: SyntaxWarning: invalid escape sequence '\\d'\n",
      "  data['Price in INR'] = data['Price in INR'].str.extract('(\\d+)').astype(float)\n"
     ]
    }
   ],
   "source": [
    "data['Price in INR'] = data['Price in INR'].str.extract('(\\d+)').astype(float)\n",
    "mean_value = data['Price in INR'].mean()\n",
    "data['Price in INR'].fillna(mean_value, inplace=True)"
   ]
  },
  {
   "cell_type": "code",
   "execution_count": 30,
   "metadata": {},
   "outputs": [],
   "source": [
    "data['Price in INR'] = data['Price in INR'].astype('int')"
   ]
  },
  {
   "cell_type": "code",
   "execution_count": 31,
   "metadata": {},
   "outputs": [
    {
     "ename": "ValueError",
     "evalue": "could not convert string to float: 'POCO C50 (Royal Blue, 32 GB)'",
     "output_type": "error",
     "traceback": [
      "\u001b[1;31m---------------------------------------------------------------------------\u001b[0m",
      "\u001b[1;31mValueError\u001b[0m                                Traceback (most recent call last)",
      "\u001b[1;32mc:\\Users\\vajir\\Documents\\AI Learn\\Notebook.ipynb Cell 31\u001b[0m line \u001b[0;36m1\n\u001b[1;32m----> <a href='vscode-notebook-cell:/c%3A/Users/vajir/Documents/AI%20Learn/Notebook.ipynb#X42sZmlsZQ%3D%3D?line=0'>1</a>\u001b[0m data\u001b[39m.\u001b[39;49mcorr()[\u001b[39m'\u001b[39m\u001b[39mPrice in INR\u001b[39m\u001b[39m'\u001b[39m]\n",
      "File \u001b[1;32mc:\\Python312\\Lib\\site-packages\\pandas\\core\\frame.py:10707\u001b[0m, in \u001b[0;36mDataFrame.corr\u001b[1;34m(self, method, min_periods, numeric_only)\u001b[0m\n\u001b[0;32m  10705\u001b[0m cols \u001b[39m=\u001b[39m data\u001b[39m.\u001b[39mcolumns\n\u001b[0;32m  10706\u001b[0m idx \u001b[39m=\u001b[39m cols\u001b[39m.\u001b[39mcopy()\n\u001b[1;32m> 10707\u001b[0m mat \u001b[39m=\u001b[39m data\u001b[39m.\u001b[39;49mto_numpy(dtype\u001b[39m=\u001b[39;49m\u001b[39mfloat\u001b[39;49m, na_value\u001b[39m=\u001b[39;49mnp\u001b[39m.\u001b[39;49mnan, copy\u001b[39m=\u001b[39;49m\u001b[39mFalse\u001b[39;49;00m)\n\u001b[0;32m  10709\u001b[0m \u001b[39mif\u001b[39;00m method \u001b[39m==\u001b[39m \u001b[39m\"\u001b[39m\u001b[39mpearson\u001b[39m\u001b[39m\"\u001b[39m:\n\u001b[0;32m  10710\u001b[0m     correl \u001b[39m=\u001b[39m libalgos\u001b[39m.\u001b[39mnancorr(mat, minp\u001b[39m=\u001b[39mmin_periods)\n",
      "File \u001b[1;32mc:\\Python312\\Lib\\site-packages\\pandas\\core\\frame.py:1892\u001b[0m, in \u001b[0;36mDataFrame.to_numpy\u001b[1;34m(self, dtype, copy, na_value)\u001b[0m\n\u001b[0;32m   1890\u001b[0m \u001b[39mif\u001b[39;00m dtype \u001b[39mis\u001b[39;00m \u001b[39mnot\u001b[39;00m \u001b[39mNone\u001b[39;00m:\n\u001b[0;32m   1891\u001b[0m     dtype \u001b[39m=\u001b[39m np\u001b[39m.\u001b[39mdtype(dtype)\n\u001b[1;32m-> 1892\u001b[0m result \u001b[39m=\u001b[39m \u001b[39mself\u001b[39;49m\u001b[39m.\u001b[39;49m_mgr\u001b[39m.\u001b[39;49mas_array(dtype\u001b[39m=\u001b[39;49mdtype, copy\u001b[39m=\u001b[39;49mcopy, na_value\u001b[39m=\u001b[39;49mna_value)\n\u001b[0;32m   1893\u001b[0m \u001b[39mif\u001b[39;00m result\u001b[39m.\u001b[39mdtype \u001b[39mis\u001b[39;00m \u001b[39mnot\u001b[39;00m dtype:\n\u001b[0;32m   1894\u001b[0m     result \u001b[39m=\u001b[39m np\u001b[39m.\u001b[39marray(result, dtype\u001b[39m=\u001b[39mdtype, copy\u001b[39m=\u001b[39m\u001b[39mFalse\u001b[39;00m)\n",
      "File \u001b[1;32mc:\\Python312\\Lib\\site-packages\\pandas\\core\\internals\\managers.py:1656\u001b[0m, in \u001b[0;36mBlockManager.as_array\u001b[1;34m(self, dtype, copy, na_value)\u001b[0m\n\u001b[0;32m   1654\u001b[0m         arr\u001b[39m.\u001b[39mflags\u001b[39m.\u001b[39mwriteable \u001b[39m=\u001b[39m \u001b[39mFalse\u001b[39;00m\n\u001b[0;32m   1655\u001b[0m \u001b[39melse\u001b[39;00m:\n\u001b[1;32m-> 1656\u001b[0m     arr \u001b[39m=\u001b[39m \u001b[39mself\u001b[39;49m\u001b[39m.\u001b[39;49m_interleave(dtype\u001b[39m=\u001b[39;49mdtype, na_value\u001b[39m=\u001b[39;49mna_value)\n\u001b[0;32m   1657\u001b[0m     \u001b[39m# The underlying data was copied within _interleave, so no need\u001b[39;00m\n\u001b[0;32m   1658\u001b[0m     \u001b[39m# to further copy if copy=True or setting na_value\u001b[39;00m\n\u001b[0;32m   1660\u001b[0m \u001b[39mif\u001b[39;00m na_value \u001b[39mis\u001b[39;00m lib\u001b[39m.\u001b[39mno_default:\n",
      "File \u001b[1;32mc:\\Python312\\Lib\\site-packages\\pandas\\core\\internals\\managers.py:1715\u001b[0m, in \u001b[0;36mBlockManager._interleave\u001b[1;34m(self, dtype, na_value)\u001b[0m\n\u001b[0;32m   1713\u001b[0m     \u001b[39melse\u001b[39;00m:\n\u001b[0;32m   1714\u001b[0m         arr \u001b[39m=\u001b[39m blk\u001b[39m.\u001b[39mget_values(dtype)\n\u001b[1;32m-> 1715\u001b[0m     result[rl\u001b[39m.\u001b[39;49mindexer] \u001b[39m=\u001b[39m arr\n\u001b[0;32m   1716\u001b[0m     itemmask[rl\u001b[39m.\u001b[39mindexer] \u001b[39m=\u001b[39m \u001b[39m1\u001b[39m\n\u001b[0;32m   1718\u001b[0m \u001b[39mif\u001b[39;00m \u001b[39mnot\u001b[39;00m itemmask\u001b[39m.\u001b[39mall():\n",
      "\u001b[1;31mValueError\u001b[0m: could not convert string to float: 'POCO C50 (Royal Blue, 32 GB)'"
     ]
    }
   ],
   "source": [
    "data.corr()['Price in INR']"
   ]
  },
  {
   "cell_type": "code",
   "execution_count": 32,
   "metadata": {},
   "outputs": [
    {
     "data": {
      "text/plain": [
       "Phone Name\n",
       "SAMSUNG Guru Music 2                          9\n",
       "OnePlus 10R 5G (Sierra Black, 256 GB)         5\n",
       "Nokia 8210 4G                                 4\n",
       "OnePlus Nord CE 2 5G (Bahama Blue, 128 GB)    4\n",
       "Nokia 3310 DS 2020                            4\n",
       "                                             ..\n",
       "OPPO A785G (Blue, 128 GB)                     1\n",
       "OPPO A54 (Moonlight Gold, 64 GB)              1\n",
       "OPPO A54 (Crystal Black, 64 GB)               1\n",
       "OPPO A16E (White, 32 GB)                      1\n",
       "Infinix S5 (Quetzal Cyan, 64 GB)              1\n",
       "Name: count, Length: 1507, dtype: int64"
      ]
     },
     "execution_count": 32,
     "metadata": {},
     "output_type": "execute_result"
    }
   ],
   "source": [
    "data['Phone Name'].value_counts()"
   ]
  },
  {
   "cell_type": "code",
   "execution_count": 33,
   "metadata": {},
   "outputs": [],
   "source": [
    "def add_Phone_name(input):\n",
    "    if input == 'SAMSUNG Guru Music 2' or input == 'OnePlus 10R 5G (Sierra Black, 256 GB)' or input == 'Nokia 8210 4G' or input == 'OnePlus Nord CE 2 5G (Bahama Blue, 128 GB)' or input == 'Nokia 3310 DS 2020':\n",
    "        return input\n",
    "    else:\n",
    "        return 'Other'\n",
    "data['Phone Name'] = data['Phone Name'].apply(add_Phone_name)\n"
   ]
  },
  {
   "cell_type": "code",
   "execution_count": 34,
   "metadata": {},
   "outputs": [
    {
     "data": {
      "text/plain": [
       "Phone Name\n",
       "Other                                         1810\n",
       "SAMSUNG Guru Music 2                             9\n",
       "OnePlus 10R 5G (Sierra Black, 256 GB)            5\n",
       "Nokia 3310 DS 2020                               4\n",
       "Nokia 8210 4G                                    4\n",
       "OnePlus Nord CE 2 5G (Bahama Blue, 128 GB)       4\n",
       "Name: count, dtype: int64"
      ]
     },
     "execution_count": 34,
     "metadata": {},
     "output_type": "execute_result"
    }
   ],
   "source": [
    "data['Phone Name'].value_counts()"
   ]
  },
  {
   "cell_type": "code",
   "execution_count": 35,
   "metadata": {},
   "outputs": [
    {
     "data": {
      "text/plain": [
       "Processor\n",
       "1 Year Warranty for Phone and 6 Months Warranty for In-Box Accessories                       47\n",
       "Qualcomm Snapdragon 680 Processor                                                            45\n",
       "Brand Warranty for 1 Year                                                                    40\n",
       "12 months                                                                                    35\n",
       "Qualcomm Snapdragon 778G Processor                                                           33\n",
       "Mediatek Helio P35 Processor                                                                 32\n",
       "Brand Warranty of 1 Year                                                                     30\n",
       "1 Year Warranty                                                                              30\n",
       "Unisoc T612 Processor                                                                        29\n",
       "12 Months Warranty                                                                           28\n",
       "Mediatek Dimensity 920 Processor                                                             27\n",
       "Qualcomm Snapdragon 870 Processor                                                            23\n",
       "1 Year Manufacturer Warranty for Handset and 6 Months Warranty for In the Box Accessories    22\n",
       "Qualcomm Snapdragon 439 Processor                                                            22\n",
       "Qualcomm Snapdragon 695 Processor                                                            22\n",
       "Name: count, dtype: int64"
      ]
     },
     "execution_count": 35,
     "metadata": {},
     "output_type": "execute_result"
    }
   ],
   "source": [
    "data['Processor'].value_counts().head(15)\n"
   ]
  },
  {
   "cell_type": "code",
   "execution_count": 36,
   "metadata": {},
   "outputs": [],
   "source": [
    "def add_Phone_name(input):\n",
    "    if input == 'Qualcomm Snapdragon 680 Processor' or input == 'Qualcomm Snapdragon 778G Processor' or input == 'Mediatek Helio P35 Processor' or input == 'Unisoc T612 Processor' or input == 'Mediatek Dimensity 920 Processor' or input == 'Qualcomm Snapdragon 870 Processor' or input == 'Qualcomm Snapdragon 695 Processor' or input == 'Qualcomm Snapdragon 439 Processor' :\n",
    "        return input\n",
    "    else:\n",
    "        return 'Other'\n",
    "data['Processor'] = data['Processor'].apply(add_Phone_name)\n"
   ]
  },
  {
   "cell_type": "code",
   "execution_count": 37,
   "metadata": {},
   "outputs": [
    {
     "data": {
      "text/plain": [
       "Processor\n",
       "Other                                 1603\n",
       "Qualcomm Snapdragon 680 Processor       45\n",
       "Qualcomm Snapdragon 778G Processor      33\n",
       "Mediatek Helio P35 Processor            32\n",
       "Unisoc T612 Processor                   29\n",
       "Mediatek Dimensity 920 Processor        27\n",
       "Qualcomm Snapdragon 870 Processor       23\n",
       "Qualcomm Snapdragon 695 Processor       22\n",
       "Qualcomm Snapdragon 439 Processor       22\n",
       "Name: count, dtype: int64"
      ]
     },
     "execution_count": 37,
     "metadata": {},
     "output_type": "execute_result"
    }
   ],
   "source": [
    "data['Processor'].value_counts()"
   ]
  },
  {
   "cell_type": "code",
   "execution_count": 38,
   "metadata": {},
   "outputs": [
    {
     "data": {
      "text/plain": [
       "Back/Rare Camera\n",
       "50MP Rear Camera     101\n",
       "13MP Rear Camera      93\n",
       "12MP + 12MP           81\n",
       "13MP + 2MP            81\n",
       "50MP + 2MP + 2MP      80\n",
       "8MP Rear Camera       78\n",
       "64MP + 8MP + 2MP      76\n",
       "50MP + 2MP            71\n",
       "12MP Rear Camera      60\n",
       "13MP + 2MP + 2MP      55\n",
       "50MP + 8MP + 2MP      54\n",
       "48MP + 2MP + 2MP      46\n",
       "48MP Rear Camera      40\n",
       "0.3MP Rear Camera     38\n",
       "64MP Rear Camera      36\n",
       "Name: count, dtype: int64"
      ]
     },
     "execution_count": 38,
     "metadata": {},
     "output_type": "execute_result"
    }
   ],
   "source": [
    "data['Back/Rare Camera'].value_counts().head(15)"
   ]
  },
  {
   "cell_type": "code",
   "execution_count": 39,
   "metadata": {},
   "outputs": [],
   "source": [
    "def add_Phone_name(input):\n",
    "    if input == '50MP Rear Camera' or input == '13MP Rear Camera' or input == '12MP + 12MP' or input == '13MP + 2MP' or input == '50MP + 2MP + 2MP' or input == '8MP Rear Camera' or input == '64MP + 8MP + 2MP' or input == '50MP + 2MP' or input == '12MP Rear Camera' or input == '13MP + 2MP + 2MP' or input == '50MP + 8MP + 2MP' or input == '48MP + 2MP + 2MP' or input == '48MP Rear Camera' or input == '0.3MP Rear Camera' or input == '64MP Rear Camera':\n",
    "        return input\n",
    "    else:\n",
    "        return 'Other'\n",
    "data['Back/Rare Camera'] = data['Back/Rare Camera'].apply(add_Phone_name)\n"
   ]
  },
  {
   "cell_type": "code",
   "execution_count": 40,
   "metadata": {},
   "outputs": [
    {
     "data": {
      "text/plain": [
       "Back/Rare Camera\n",
       "Other                846\n",
       "50MP Rear Camera     101\n",
       "13MP Rear Camera      93\n",
       "13MP + 2MP            81\n",
       "12MP + 12MP           81\n",
       "50MP + 2MP + 2MP      80\n",
       "8MP Rear Camera       78\n",
       "64MP + 8MP + 2MP      76\n",
       "50MP + 2MP            71\n",
       "12MP Rear Camera      60\n",
       "13MP + 2MP + 2MP      55\n",
       "50MP + 8MP + 2MP      54\n",
       "48MP + 2MP + 2MP      46\n",
       "48MP Rear Camera      40\n",
       "0.3MP Rear Camera     38\n",
       "64MP Rear Camera      36\n",
       "Name: count, dtype: int64"
      ]
     },
     "execution_count": 40,
     "metadata": {},
     "output_type": "execute_result"
    }
   ],
   "source": [
    "data['Back/Rare Camera'].value_counts()"
   ]
  },
  {
   "cell_type": "code",
   "execution_count": 41,
   "metadata": {},
   "outputs": [
    {
     "data": {
      "text/plain": [
       "Date of Scraping\n",
       "2023-06-17    1836\n",
       "Name: count, dtype: int64"
      ]
     },
     "execution_count": 41,
     "metadata": {},
     "output_type": "execute_result"
    }
   ],
   "source": [
    "data['Date of Scraping'].value_counts()"
   ]
  },
  {
   "cell_type": "code",
   "execution_count": 42,
   "metadata": {},
   "outputs": [
    {
     "data": {
      "text/plain": [
       "Index(['Phone Name', 'Rating ?/5', 'Number of Ratings', 'RAM', 'ROM/Storage',\n",
       "       'Back/Rare Camera', 'Front Camera', 'Battery', 'Processor',\n",
       "       'Price in INR', 'Date of Scraping'],\n",
       "      dtype='object')"
      ]
     },
     "execution_count": 42,
     "metadata": {},
     "output_type": "execute_result"
    }
   ],
   "source": [
    "data.columns"
   ]
  },
  {
   "cell_type": "code",
   "execution_count": 46,
   "metadata": {},
   "outputs": [],
   "source": [
    "data = data.drop('Date of Scraping', axis=1)"
   ]
  },
  {
   "cell_type": "code",
   "execution_count": 47,
   "metadata": {},
   "outputs": [
    {
     "data": {
      "text/html": [
       "<div>\n",
       "<style scoped>\n",
       "    .dataframe tbody tr th:only-of-type {\n",
       "        vertical-align: middle;\n",
       "    }\n",
       "\n",
       "    .dataframe tbody tr th {\n",
       "        vertical-align: top;\n",
       "    }\n",
       "\n",
       "    .dataframe thead th {\n",
       "        text-align: right;\n",
       "    }\n",
       "</style>\n",
       "<table border=\"1\" class=\"dataframe\">\n",
       "  <thead>\n",
       "    <tr style=\"text-align: right;\">\n",
       "      <th></th>\n",
       "      <th>Phone Name</th>\n",
       "      <th>Rating ?/5</th>\n",
       "      <th>Number of Ratings</th>\n",
       "      <th>RAM</th>\n",
       "      <th>ROM/Storage</th>\n",
       "      <th>Back/Rare Camera</th>\n",
       "      <th>Front Camera</th>\n",
       "      <th>Battery</th>\n",
       "      <th>Processor</th>\n",
       "      <th>Price in INR</th>\n",
       "    </tr>\n",
       "  </thead>\n",
       "  <tbody>\n",
       "    <tr>\n",
       "      <th>0</th>\n",
       "      <td>Other</td>\n",
       "      <td>4.2</td>\n",
       "      <td>33</td>\n",
       "      <td>2</td>\n",
       "      <td>32</td>\n",
       "      <td>Other</td>\n",
       "      <td>5</td>\n",
       "      <td>5000</td>\n",
       "      <td>Other</td>\n",
       "      <td>5</td>\n",
       "    </tr>\n",
       "    <tr>\n",
       "      <th>1</th>\n",
       "      <td>Other</td>\n",
       "      <td>4.2</td>\n",
       "      <td>77</td>\n",
       "      <td>4</td>\n",
       "      <td>64</td>\n",
       "      <td>50MP + 2MP</td>\n",
       "      <td>8</td>\n",
       "      <td>5000</td>\n",
       "      <td>Other</td>\n",
       "      <td>11</td>\n",
       "    </tr>\n",
       "    <tr>\n",
       "      <th>2</th>\n",
       "      <td>Other</td>\n",
       "      <td>4.3</td>\n",
       "      <td>15</td>\n",
       "      <td>4</td>\n",
       "      <td>64</td>\n",
       "      <td>Other</td>\n",
       "      <td>5</td>\n",
       "      <td>5000</td>\n",
       "      <td>Other</td>\n",
       "      <td>6</td>\n",
       "    </tr>\n",
       "    <tr>\n",
       "      <th>3</th>\n",
       "      <td>Other</td>\n",
       "      <td>4.2</td>\n",
       "      <td>22</td>\n",
       "      <td>4</td>\n",
       "      <td>64</td>\n",
       "      <td>Other</td>\n",
       "      <td>5</td>\n",
       "      <td>5000</td>\n",
       "      <td>Other</td>\n",
       "      <td>7</td>\n",
       "    </tr>\n",
       "    <tr>\n",
       "      <th>4</th>\n",
       "      <td>Other</td>\n",
       "      <td>4.3</td>\n",
       "      <td>15</td>\n",
       "      <td>4</td>\n",
       "      <td>64</td>\n",
       "      <td>Other</td>\n",
       "      <td>5</td>\n",
       "      <td>5000</td>\n",
       "      <td>Other</td>\n",
       "      <td>6</td>\n",
       "    </tr>\n",
       "  </tbody>\n",
       "</table>\n",
       "</div>"
      ],
      "text/plain": [
       "  Phone Name  Rating ?/5  Number of Ratings  RAM  ROM/Storage  \\\n",
       "0      Other         4.2                 33    2           32   \n",
       "1      Other         4.2                 77    4           64   \n",
       "2      Other         4.3                 15    4           64   \n",
       "3      Other         4.2                 22    4           64   \n",
       "4      Other         4.3                 15    4           64   \n",
       "\n",
       "  Back/Rare Camera  Front Camera  Battery Processor  Price in INR  \n",
       "0            Other             5     5000     Other             5  \n",
       "1       50MP + 2MP             8     5000     Other            11  \n",
       "2            Other             5     5000     Other             6  \n",
       "3            Other             5     5000     Other             7  \n",
       "4            Other             5     5000     Other             6  "
      ]
     },
     "execution_count": 47,
     "metadata": {},
     "output_type": "execute_result"
    }
   ],
   "source": [
    "data.head()"
   ]
  },
  {
   "cell_type": "code",
   "execution_count": 48,
   "metadata": {},
   "outputs": [
    {
     "data": {
      "text/plain": [
       "(1836, 10)"
      ]
     },
     "execution_count": 48,
     "metadata": {},
     "output_type": "execute_result"
    }
   ],
   "source": [
    "data.shape"
   ]
  },
  {
   "cell_type": "code",
   "execution_count": 49,
   "metadata": {},
   "outputs": [
    {
     "data": {
      "text/plain": [
       "Rating ?/5\n",
       "4.3    486\n",
       "4.2    345\n",
       "4.4    319\n",
       "4.1    175\n",
       "4.5    168\n",
       "4.0     79\n",
       "4.6     71\n",
       "3.9     58\n",
       "4.7     46\n",
       "0.0     25\n",
       "3.7     21\n",
       "3.8     19\n",
       "3.6      9\n",
       "3.0      3\n",
       "3.5      3\n",
       "3.4      2\n",
       "3.3      2\n",
       "4.8      1\n",
       "2.6      1\n",
       "3.2      1\n",
       "1.0      1\n",
       "2.8      1\n",
       "Name: count, dtype: int64"
      ]
     },
     "execution_count": 49,
     "metadata": {},
     "output_type": "execute_result"
    }
   ],
   "source": [
    "data['Rating ?/5'].value_counts()"
   ]
  },
  {
   "cell_type": "code",
   "execution_count": 50,
   "metadata": {},
   "outputs": [],
   "source": [
    "data = pd.get_dummies(data)"
   ]
  },
  {
   "cell_type": "code",
   "execution_count": 51,
   "metadata": {},
   "outputs": [
    {
     "data": {
      "text/html": [
       "<div>\n",
       "<style scoped>\n",
       "    .dataframe tbody tr th:only-of-type {\n",
       "        vertical-align: middle;\n",
       "    }\n",
       "\n",
       "    .dataframe tbody tr th {\n",
       "        vertical-align: top;\n",
       "    }\n",
       "\n",
       "    .dataframe thead th {\n",
       "        text-align: right;\n",
       "    }\n",
       "</style>\n",
       "<table border=\"1\" class=\"dataframe\">\n",
       "  <thead>\n",
       "    <tr style=\"text-align: right;\">\n",
       "      <th></th>\n",
       "      <th>Rating ?/5</th>\n",
       "      <th>Number of Ratings</th>\n",
       "      <th>RAM</th>\n",
       "      <th>ROM/Storage</th>\n",
       "      <th>Front Camera</th>\n",
       "      <th>Battery</th>\n",
       "      <th>Price in INR</th>\n",
       "      <th>Phone Name_Nokia 3310 DS 2020</th>\n",
       "      <th>Phone Name_Nokia 8210 4G</th>\n",
       "      <th>Phone Name_OnePlus 10R 5G (Sierra Black, 256 GB)</th>\n",
       "      <th>...</th>\n",
       "      <th>Back/Rare Camera_Other</th>\n",
       "      <th>Processor_Mediatek Dimensity 920 Processor</th>\n",
       "      <th>Processor_Mediatek Helio P35 Processor</th>\n",
       "      <th>Processor_Other</th>\n",
       "      <th>Processor_Qualcomm Snapdragon 439 Processor</th>\n",
       "      <th>Processor_Qualcomm Snapdragon 680 Processor</th>\n",
       "      <th>Processor_Qualcomm Snapdragon 695 Processor</th>\n",
       "      <th>Processor_Qualcomm Snapdragon 778G Processor</th>\n",
       "      <th>Processor_Qualcomm Snapdragon 870 Processor</th>\n",
       "      <th>Processor_Unisoc T612 Processor</th>\n",
       "    </tr>\n",
       "  </thead>\n",
       "  <tbody>\n",
       "    <tr>\n",
       "      <th>0</th>\n",
       "      <td>4.2</td>\n",
       "      <td>33</td>\n",
       "      <td>2</td>\n",
       "      <td>32</td>\n",
       "      <td>5</td>\n",
       "      <td>5000</td>\n",
       "      <td>5</td>\n",
       "      <td>False</td>\n",
       "      <td>False</td>\n",
       "      <td>False</td>\n",
       "      <td>...</td>\n",
       "      <td>True</td>\n",
       "      <td>False</td>\n",
       "      <td>False</td>\n",
       "      <td>True</td>\n",
       "      <td>False</td>\n",
       "      <td>False</td>\n",
       "      <td>False</td>\n",
       "      <td>False</td>\n",
       "      <td>False</td>\n",
       "      <td>False</td>\n",
       "    </tr>\n",
       "    <tr>\n",
       "      <th>1</th>\n",
       "      <td>4.2</td>\n",
       "      <td>77</td>\n",
       "      <td>4</td>\n",
       "      <td>64</td>\n",
       "      <td>8</td>\n",
       "      <td>5000</td>\n",
       "      <td>11</td>\n",
       "      <td>False</td>\n",
       "      <td>False</td>\n",
       "      <td>False</td>\n",
       "      <td>...</td>\n",
       "      <td>False</td>\n",
       "      <td>False</td>\n",
       "      <td>False</td>\n",
       "      <td>True</td>\n",
       "      <td>False</td>\n",
       "      <td>False</td>\n",
       "      <td>False</td>\n",
       "      <td>False</td>\n",
       "      <td>False</td>\n",
       "      <td>False</td>\n",
       "    </tr>\n",
       "    <tr>\n",
       "      <th>2</th>\n",
       "      <td>4.3</td>\n",
       "      <td>15</td>\n",
       "      <td>4</td>\n",
       "      <td>64</td>\n",
       "      <td>5</td>\n",
       "      <td>5000</td>\n",
       "      <td>6</td>\n",
       "      <td>False</td>\n",
       "      <td>False</td>\n",
       "      <td>False</td>\n",
       "      <td>...</td>\n",
       "      <td>True</td>\n",
       "      <td>False</td>\n",
       "      <td>False</td>\n",
       "      <td>True</td>\n",
       "      <td>False</td>\n",
       "      <td>False</td>\n",
       "      <td>False</td>\n",
       "      <td>False</td>\n",
       "      <td>False</td>\n",
       "      <td>False</td>\n",
       "    </tr>\n",
       "    <tr>\n",
       "      <th>3</th>\n",
       "      <td>4.2</td>\n",
       "      <td>22</td>\n",
       "      <td>4</td>\n",
       "      <td>64</td>\n",
       "      <td>5</td>\n",
       "      <td>5000</td>\n",
       "      <td>7</td>\n",
       "      <td>False</td>\n",
       "      <td>False</td>\n",
       "      <td>False</td>\n",
       "      <td>...</td>\n",
       "      <td>True</td>\n",
       "      <td>False</td>\n",
       "      <td>False</td>\n",
       "      <td>True</td>\n",
       "      <td>False</td>\n",
       "      <td>False</td>\n",
       "      <td>False</td>\n",
       "      <td>False</td>\n",
       "      <td>False</td>\n",
       "      <td>False</td>\n",
       "    </tr>\n",
       "    <tr>\n",
       "      <th>4</th>\n",
       "      <td>4.3</td>\n",
       "      <td>15</td>\n",
       "      <td>4</td>\n",
       "      <td>64</td>\n",
       "      <td>5</td>\n",
       "      <td>5000</td>\n",
       "      <td>6</td>\n",
       "      <td>False</td>\n",
       "      <td>False</td>\n",
       "      <td>False</td>\n",
       "      <td>...</td>\n",
       "      <td>True</td>\n",
       "      <td>False</td>\n",
       "      <td>False</td>\n",
       "      <td>True</td>\n",
       "      <td>False</td>\n",
       "      <td>False</td>\n",
       "      <td>False</td>\n",
       "      <td>False</td>\n",
       "      <td>False</td>\n",
       "      <td>False</td>\n",
       "    </tr>\n",
       "  </tbody>\n",
       "</table>\n",
       "<p>5 rows × 38 columns</p>\n",
       "</div>"
      ],
      "text/plain": [
       "   Rating ?/5  Number of Ratings  RAM  ROM/Storage  Front Camera  Battery  \\\n",
       "0         4.2                 33    2           32             5     5000   \n",
       "1         4.2                 77    4           64             8     5000   \n",
       "2         4.3                 15    4           64             5     5000   \n",
       "3         4.2                 22    4           64             5     5000   \n",
       "4         4.3                 15    4           64             5     5000   \n",
       "\n",
       "   Price in INR  Phone Name_Nokia 3310 DS 2020  Phone Name_Nokia 8210 4G  \\\n",
       "0             5                          False                     False   \n",
       "1            11                          False                     False   \n",
       "2             6                          False                     False   \n",
       "3             7                          False                     False   \n",
       "4             6                          False                     False   \n",
       "\n",
       "   Phone Name_OnePlus 10R 5G (Sierra Black, 256 GB)  ...  \\\n",
       "0                                             False  ...   \n",
       "1                                             False  ...   \n",
       "2                                             False  ...   \n",
       "3                                             False  ...   \n",
       "4                                             False  ...   \n",
       "\n",
       "   Back/Rare Camera_Other  Processor_Mediatek Dimensity 920 Processor  \\\n",
       "0                    True                                       False   \n",
       "1                   False                                       False   \n",
       "2                    True                                       False   \n",
       "3                    True                                       False   \n",
       "4                    True                                       False   \n",
       "\n",
       "   Processor_Mediatek Helio P35 Processor  Processor_Other  \\\n",
       "0                                   False             True   \n",
       "1                                   False             True   \n",
       "2                                   False             True   \n",
       "3                                   False             True   \n",
       "4                                   False             True   \n",
       "\n",
       "   Processor_Qualcomm Snapdragon 439 Processor  \\\n",
       "0                                        False   \n",
       "1                                        False   \n",
       "2                                        False   \n",
       "3                                        False   \n",
       "4                                        False   \n",
       "\n",
       "   Processor_Qualcomm Snapdragon 680 Processor  \\\n",
       "0                                        False   \n",
       "1                                        False   \n",
       "2                                        False   \n",
       "3                                        False   \n",
       "4                                        False   \n",
       "\n",
       "   Processor_Qualcomm Snapdragon 695 Processor  \\\n",
       "0                                        False   \n",
       "1                                        False   \n",
       "2                                        False   \n",
       "3                                        False   \n",
       "4                                        False   \n",
       "\n",
       "   Processor_Qualcomm Snapdragon 778G Processor  \\\n",
       "0                                         False   \n",
       "1                                         False   \n",
       "2                                         False   \n",
       "3                                         False   \n",
       "4                                         False   \n",
       "\n",
       "   Processor_Qualcomm Snapdragon 870 Processor  \\\n",
       "0                                        False   \n",
       "1                                        False   \n",
       "2                                        False   \n",
       "3                                        False   \n",
       "4                                        False   \n",
       "\n",
       "   Processor_Unisoc T612 Processor  \n",
       "0                            False  \n",
       "1                            False  \n",
       "2                            False  \n",
       "3                            False  \n",
       "4                            False  \n",
       "\n",
       "[5 rows x 38 columns]"
      ]
     },
     "execution_count": 51,
     "metadata": {},
     "output_type": "execute_result"
    }
   ],
   "source": [
    "data.head()"
   ]
  },
  {
   "cell_type": "code",
   "execution_count": 52,
   "metadata": {},
   "outputs": [
    {
     "data": {
      "text/plain": [
       "(1836, 38)"
      ]
     },
     "execution_count": 52,
     "metadata": {},
     "output_type": "execute_result"
    }
   ],
   "source": [
    "data.shape"
   ]
  },
  {
   "cell_type": "code",
   "execution_count": 53,
   "metadata": {},
   "outputs": [],
   "source": [
    "x = data.drop('Price in INR', axis=1)\n",
    "y = data['Price in INR']"
   ]
  },
  {
   "cell_type": "code",
   "execution_count": 88,
   "metadata": {},
   "outputs": [
    {
     "name": "stdout",
     "output_type": "stream",
     "text": [
      "Requirement already satisfied: sklearn in c:\\python312\\lib\\site-packages (0.0.post10)\n",
      "^C\n"
     ]
    }
   ],
   "source": [
    "!pip install sklearn\n",
    "!pip install scikit-learn\n"
   ]
  },
  {
   "cell_type": "code",
   "execution_count": 54,
   "metadata": {},
   "outputs": [],
   "source": [
    "\n",
    "from sklearn.model_selection import train_test_split\n",
    "\n",
    "x_train, x_test, y_train, y_test = train_test_split(x, y, test_size=0.2)"
   ]
  },
  {
   "cell_type": "code",
   "execution_count": 55,
   "metadata": {},
   "outputs": [
    {
     "data": {
      "text/plain": [
       "((1468, 37), (368, 37), (1468,), (368,))"
      ]
     },
     "execution_count": 55,
     "metadata": {},
     "output_type": "execute_result"
    }
   ],
   "source": [
    "x_train.shape, x_test.shape, y_train.shape, y_test.shape"
   ]
  },
  {
   "cell_type": "code",
   "execution_count": 56,
   "metadata": {},
   "outputs": [],
   "source": [
    "def model_acc(model):\n",
    "    model.fit(x_train, y_train)\n",
    "    acc = model.score(x_test, y_test)\n",
    "    print(str(model)+ '-->' +str(acc))"
   ]
  },
  {
   "cell_type": "code",
   "execution_count": 57,
   "metadata": {},
   "outputs": [
    {
     "name": "stdout",
     "output_type": "stream",
     "text": [
      "LinearRegression()-->0.6374569179321714\n",
      "Lasso()-->0.43285349708469223\n",
      "DecisionTreeRegressor()-->0.8720127395769025\n",
      "RandomForestRegressor()-->0.9028809929851969\n"
     ]
    }
   ],
   "source": [
    "from sklearn.linear_model import LinearRegression\n",
    "lr = LinearRegression()\n",
    "model_acc(lr)\n",
    "\n",
    "from sklearn.linear_model import Lasso\n",
    "lasso = Lasso()\n",
    "model_acc(lasso)\n",
    "\n",
    "from sklearn.tree import DecisionTreeRegressor\n",
    "dt = DecisionTreeRegressor()\n",
    "model_acc(dt)\n",
    "\n",
    "from sklearn.ensemble import RandomForestRegressor\n",
    "rf = RandomForestRegressor()\n",
    "model_acc(rf)\n",
    "\n"
   ]
  },
  {
   "cell_type": "code",
   "execution_count": 58,
   "metadata": {},
   "outputs": [
    {
     "data": {
      "text/html": [
       "<style>#sk-container-id-1 {color: black;}#sk-container-id-1 pre{padding: 0;}#sk-container-id-1 div.sk-toggleable {background-color: white;}#sk-container-id-1 label.sk-toggleable__label {cursor: pointer;display: block;width: 100%;margin-bottom: 0;padding: 0.3em;box-sizing: border-box;text-align: center;}#sk-container-id-1 label.sk-toggleable__label-arrow:before {content: \"▸\";float: left;margin-right: 0.25em;color: #696969;}#sk-container-id-1 label.sk-toggleable__label-arrow:hover:before {color: black;}#sk-container-id-1 div.sk-estimator:hover label.sk-toggleable__label-arrow:before {color: black;}#sk-container-id-1 div.sk-toggleable__content {max-height: 0;max-width: 0;overflow: hidden;text-align: left;background-color: #f0f8ff;}#sk-container-id-1 div.sk-toggleable__content pre {margin: 0.2em;color: black;border-radius: 0.25em;background-color: #f0f8ff;}#sk-container-id-1 input.sk-toggleable__control:checked~div.sk-toggleable__content {max-height: 200px;max-width: 100%;overflow: auto;}#sk-container-id-1 input.sk-toggleable__control:checked~label.sk-toggleable__label-arrow:before {content: \"▾\";}#sk-container-id-1 div.sk-estimator input.sk-toggleable__control:checked~label.sk-toggleable__label {background-color: #d4ebff;}#sk-container-id-1 div.sk-label input.sk-toggleable__control:checked~label.sk-toggleable__label {background-color: #d4ebff;}#sk-container-id-1 input.sk-hidden--visually {border: 0;clip: rect(1px 1px 1px 1px);clip: rect(1px, 1px, 1px, 1px);height: 1px;margin: -1px;overflow: hidden;padding: 0;position: absolute;width: 1px;}#sk-container-id-1 div.sk-estimator {font-family: monospace;background-color: #f0f8ff;border: 1px dotted black;border-radius: 0.25em;box-sizing: border-box;margin-bottom: 0.5em;}#sk-container-id-1 div.sk-estimator:hover {background-color: #d4ebff;}#sk-container-id-1 div.sk-parallel-item::after {content: \"\";width: 100%;border-bottom: 1px solid gray;flex-grow: 1;}#sk-container-id-1 div.sk-label:hover label.sk-toggleable__label {background-color: #d4ebff;}#sk-container-id-1 div.sk-serial::before {content: \"\";position: absolute;border-left: 1px solid gray;box-sizing: border-box;top: 0;bottom: 0;left: 50%;z-index: 0;}#sk-container-id-1 div.sk-serial {display: flex;flex-direction: column;align-items: center;background-color: white;padding-right: 0.2em;padding-left: 0.2em;position: relative;}#sk-container-id-1 div.sk-item {position: relative;z-index: 1;}#sk-container-id-1 div.sk-parallel {display: flex;align-items: stretch;justify-content: center;background-color: white;position: relative;}#sk-container-id-1 div.sk-item::before, #sk-container-id-1 div.sk-parallel-item::before {content: \"\";position: absolute;border-left: 1px solid gray;box-sizing: border-box;top: 0;bottom: 0;left: 50%;z-index: -1;}#sk-container-id-1 div.sk-parallel-item {display: flex;flex-direction: column;z-index: 1;position: relative;background-color: white;}#sk-container-id-1 div.sk-parallel-item:first-child::after {align-self: flex-end;width: 50%;}#sk-container-id-1 div.sk-parallel-item:last-child::after {align-self: flex-start;width: 50%;}#sk-container-id-1 div.sk-parallel-item:only-child::after {width: 0;}#sk-container-id-1 div.sk-dashed-wrapped {border: 1px dashed gray;margin: 0 0.4em 0.5em 0.4em;box-sizing: border-box;padding-bottom: 0.4em;background-color: white;}#sk-container-id-1 div.sk-label label {font-family: monospace;font-weight: bold;display: inline-block;line-height: 1.2em;}#sk-container-id-1 div.sk-label-container {text-align: center;}#sk-container-id-1 div.sk-container {/* jupyter's `normalize.less` sets `[hidden] { display: none; }` but bootstrap.min.css set `[hidden] { display: none !important; }` so we also need the `!important` here to be able to override the default hidden behavior on the sphinx rendered scikit-learn.org. See: https://github.com/scikit-learn/scikit-learn/issues/21755 */display: inline-block !important;position: relative;}#sk-container-id-1 div.sk-text-repr-fallback {display: none;}</style><div id=\"sk-container-id-1\" class=\"sk-top-container\"><div class=\"sk-text-repr-fallback\"><pre>RandomForestRegressor(n_estimators=50)</pre><b>In a Jupyter environment, please rerun this cell to show the HTML representation or trust the notebook. <br />On GitHub, the HTML representation is unable to render, please try loading this page with nbviewer.org.</b></div><div class=\"sk-container\" hidden><div class=\"sk-item\"><div class=\"sk-estimator sk-toggleable\"><input class=\"sk-toggleable__control sk-hidden--visually\" id=\"sk-estimator-id-1\" type=\"checkbox\" checked><label for=\"sk-estimator-id-1\" class=\"sk-toggleable__label sk-toggleable__label-arrow\">RandomForestRegressor</label><div class=\"sk-toggleable__content\"><pre>RandomForestRegressor(n_estimators=50)</pre></div></div></div></div></div>"
      ],
      "text/plain": [
       "RandomForestRegressor(n_estimators=50)"
      ]
     },
     "execution_count": 58,
     "metadata": {},
     "output_type": "execute_result"
    }
   ],
   "source": [
    "from sklearn.model_selection import GridSearchCV\n",
    "\n",
    "parameters = {'n_estimators':[10, 50, 100],\n",
    "            'criterion':['squared_error', 'absolute_error','poisson']}\n",
    "\n",
    "grid_obj = GridSearchCV(estimator=rf, param_grid=parameters)\n",
    "\n",
    "grid_fit = grid_obj.fit(x_train, y_train)\n",
    "best_model = grid_fit.best_estimator_\n",
    "best_model"
   ]
  },
  {
   "cell_type": "code",
   "execution_count": 59,
   "metadata": {},
   "outputs": [
    {
     "data": {
      "text/plain": [
       "0.8994727215865772"
      ]
     },
     "execution_count": 59,
     "metadata": {},
     "output_type": "execute_result"
    }
   ],
   "source": [
    "best_model.score(x_test, y_test)"
   ]
  },
  {
   "cell_type": "code",
   "execution_count": 60,
   "metadata": {},
   "outputs": [],
   "source": [
    "import pickle\n",
    "with open ('predictor.pickle', 'wb') as file:\n",
    "    pickle.dump(best_model, file)"
   ]
  },
  {
   "cell_type": "code",
   "execution_count": 61,
   "metadata": {},
   "outputs": [
    {
     "data": {
      "text/plain": [
       "Index(['Rating ?/5', 'Number of Ratings', 'RAM', 'ROM/Storage', 'Front Camera',\n",
       "       'Battery', 'Phone Name_Nokia 3310 DS 2020', 'Phone Name_Nokia 8210 4G',\n",
       "       'Phone Name_OnePlus 10R 5G (Sierra Black, 256 GB)',\n",
       "       'Phone Name_OnePlus Nord CE 2 5G (Bahama Blue, 128 GB)',\n",
       "       'Phone Name_Other', 'Phone Name_SAMSUNG Guru Music 2',\n",
       "       'Back/Rare Camera_0.3MP Rear Camera', 'Back/Rare Camera_12MP + 12MP',\n",
       "       'Back/Rare Camera_12MP Rear Camera', 'Back/Rare Camera_13MP + 2MP',\n",
       "       'Back/Rare Camera_13MP + 2MP + 2MP',\n",
       "       'Back/Rare Camera_13MP Rear Camera',\n",
       "       'Back/Rare Camera_48MP + 2MP + 2MP',\n",
       "       'Back/Rare Camera_48MP Rear Camera', 'Back/Rare Camera_50MP + 2MP',\n",
       "       'Back/Rare Camera_50MP + 2MP + 2MP',\n",
       "       'Back/Rare Camera_50MP + 8MP + 2MP',\n",
       "       'Back/Rare Camera_50MP Rear Camera',\n",
       "       'Back/Rare Camera_64MP + 8MP + 2MP',\n",
       "       'Back/Rare Camera_64MP Rear Camera', 'Back/Rare Camera_8MP Rear Camera',\n",
       "       'Back/Rare Camera_Other', 'Processor_Mediatek Dimensity 920 Processor',\n",
       "       'Processor_Mediatek Helio P35 Processor', 'Processor_Other',\n",
       "       'Processor_Qualcomm Snapdragon 439 Processor',\n",
       "       'Processor_Qualcomm Snapdragon 680 Processor',\n",
       "       'Processor_Qualcomm Snapdragon 695 Processor',\n",
       "       'Processor_Qualcomm Snapdragon 778G Processor',\n",
       "       'Processor_Qualcomm Snapdragon 870 Processor',\n",
       "       'Processor_Unisoc T612 Processor'],\n",
       "      dtype='object')"
      ]
     },
     "execution_count": 61,
     "metadata": {},
     "output_type": "execute_result"
    }
   ],
   "source": [
    "x_train.columns"
   ]
  }
 ],
 "metadata": {
  "kernelspec": {
   "display_name": "Python 3",
   "language": "python",
   "name": "python3"
  },
  "language_info": {
   "codemirror_mode": {
    "name": "ipython",
    "version": 3
   },
   "file_extension": ".py",
   "mimetype": "text/x-python",
   "name": "python",
   "nbconvert_exporter": "python",
   "pygments_lexer": "ipython3",
   "version": "3.12.0"
  }
 },
 "nbformat": 4,
 "nbformat_minor": 2
}
